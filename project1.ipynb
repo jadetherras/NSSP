{
 "cells": [
  {
   "cell_type": "markdown",
   "id": "52aba839-225f-4afb-b9d1-7e2bcab1571b",
   "metadata": {},
   "source": [
    "# NSSP project 1"
   ]
  },
  {
   "cell_type": "code",
   "execution_count": 42,
   "id": "5090af07-222f-4710-b30a-953dff8b7ee7",
   "metadata": {},
   "outputs": [
    {
     "name": "stderr",
     "output_type": "stream",
     "text": [
      "\n",
      "A module that was compiled using NumPy 1.x cannot be run in\n",
      "NumPy 2.0.2 as it may crash. To support both 1.x and 2.x\n",
      "versions of NumPy, modules must be compiled with NumPy 2.0.\n",
      "Some module may need to rebuild instead e.g. with 'pybind11>=2.12'.\n",
      "\n",
      "If you are a user of the module, the easiest solution will be to\n",
      "downgrade to 'numpy<2' or try to upgrade the affected module.\n",
      "We expect that some modules will need time to support NumPy 2.\n",
      "\n",
      "Traceback (most recent call last):  File \"/Users/djay/miniforge3/lib/python3.9/runpy.py\", line 197, in _run_module_as_main\n",
      "    return _run_code(code, main_globals, None,\n",
      "  File \"/Users/djay/miniforge3/lib/python3.9/runpy.py\", line 87, in _run_code\n",
      "    exec(code, run_globals)\n",
      "  File \"/Users/djay/miniforge3/lib/python3.9/site-packages/ipykernel_launcher.py\", line 17, in <module>\n",
      "    app.launch_new_instance()\n",
      "  File \"/Users/djay/miniforge3/lib/python3.9/site-packages/traitlets/config/application.py\", line 846, in launch_instance\n",
      "    app.start()\n",
      "  File \"/Users/djay/miniforge3/lib/python3.9/site-packages/ipykernel/kernelapp.py\", line 712, in start\n",
      "    self.io_loop.start()\n",
      "  File \"/Users/djay/miniforge3/lib/python3.9/site-packages/tornado/platform/asyncio.py\", line 199, in start\n",
      "    self.asyncio_loop.run_forever()\n",
      "  File \"/Users/djay/miniforge3/lib/python3.9/asyncio/base_events.py\", line 596, in run_forever\n",
      "    self._run_once()\n",
      "  File \"/Users/djay/miniforge3/lib/python3.9/asyncio/base_events.py\", line 1890, in _run_once\n",
      "    handle._run()\n",
      "  File \"/Users/djay/miniforge3/lib/python3.9/asyncio/events.py\", line 80, in _run\n",
      "    self._context.run(self._callback, *self._args)\n",
      "  File \"/Users/djay/miniforge3/lib/python3.9/site-packages/ipykernel/kernelbase.py\", line 504, in dispatch_queue\n",
      "    await self.process_one()\n",
      "  File \"/Users/djay/miniforge3/lib/python3.9/site-packages/ipykernel/kernelbase.py\", line 493, in process_one\n",
      "    await dispatch(*args)\n",
      "  File \"/Users/djay/miniforge3/lib/python3.9/site-packages/ipykernel/kernelbase.py\", line 400, in dispatch_shell\n",
      "    await result\n",
      "  File \"/Users/djay/miniforge3/lib/python3.9/site-packages/ipykernel/kernelbase.py\", line 724, in execute_request\n",
      "    reply_content = await reply_content\n",
      "  File \"/Users/djay/miniforge3/lib/python3.9/site-packages/ipykernel/ipkernel.py\", line 390, in do_execute\n",
      "    res = shell.run_cell(code, store_history=store_history, silent=silent)\n",
      "  File \"/Users/djay/miniforge3/lib/python3.9/site-packages/ipykernel/zmqshell.py\", line 528, in run_cell\n",
      "    return super().run_cell(*args, **kwargs)\n",
      "  File \"/Users/djay/miniforge3/lib/python3.9/site-packages/IPython/core/interactiveshell.py\", line 2863, in run_cell\n",
      "    result = self._run_cell(\n",
      "  File \"/Users/djay/miniforge3/lib/python3.9/site-packages/IPython/core/interactiveshell.py\", line 2909, in _run_cell\n",
      "    return runner(coro)\n",
      "  File \"/Users/djay/miniforge3/lib/python3.9/site-packages/IPython/core/async_helpers.py\", line 129, in _pseudo_sync_runner\n",
      "    coro.send(None)\n",
      "  File \"/Users/djay/miniforge3/lib/python3.9/site-packages/IPython/core/interactiveshell.py\", line 3106, in run_cell_async\n",
      "    has_raised = await self.run_ast_nodes(code_ast.body, cell_name,\n",
      "  File \"/Users/djay/miniforge3/lib/python3.9/site-packages/IPython/core/interactiveshell.py\", line 3309, in run_ast_nodes\n",
      "    if await self.run_code(code, result, async_=asy):\n",
      "  File \"/Users/djay/miniforge3/lib/python3.9/site-packages/IPython/core/interactiveshell.py\", line 3369, in run_code\n",
      "    exec(code_obj, self.user_global_ns, self.user_ns)\n",
      "  File \"/var/folders/2y/_yhdrpzj5kb7clnr0qc0chxc0000gn/T/ipykernel_58574/2847920056.py\", line 14, in <cell line: 14>\n",
      "    from mne_bids import print_dir_tree\n",
      "  File \"/Users/djay/miniforge3/lib/python3.9/site-packages/mne_bids/__init__.py\", line 11, in <module>\n",
      "    from mne_bids.report import make_report\n",
      "  File \"/Users/djay/miniforge3/lib/python3.9/site-packages/mne_bids/report/__init__.py\", line 3, in <module>\n",
      "    from ._report import make_report\n",
      "  File \"/Users/djay/miniforge3/lib/python3.9/site-packages/mne_bids/report/_report.py\", line 13, in <module>\n",
      "    from mne.utils import logger, verbose\n",
      "  File \"/Users/djay/miniforge3/lib/python3.9/site-packages/mne/__init__.py\", line 35, in <module>\n",
      "    set_log_level(None, False)\n",
      "  File \"/Users/djay/miniforge3/lib/python3.9/site-packages/mne/utils/_logging.py\", line 209, in set_log_level\n",
      "    verbose = _parse_verbose(verbose)\n",
      "  File \"/Users/djay/miniforge3/lib/python3.9/site-packages/mne/utils/_logging.py\", line 224, in _parse_verbose\n",
      "    from .check import _check_option, _validate_type\n",
      "  File \"/Users/djay/miniforge3/lib/python3.9/site-packages/mne/utils/check.py\", line 20, in <module>\n",
      "    from ..fixes import _compare_version, _median_complex\n",
      "  File \"/Users/djay/miniforge3/lib/python3.9/site-packages/mne/fixes.py\", line 777, in <module>\n",
      "    import numba\n",
      "  File \"/Users/djay/miniforge3/lib/python3.9/site-packages/numba/__init__.py\", line 38, in <module>\n",
      "    from numba.core.decorators import (cfunc, generated_jit, jit, njit, stencil,\n",
      "  File \"/Users/djay/miniforge3/lib/python3.9/site-packages/numba/core/decorators.py\", line 12, in <module>\n",
      "    from numba.stencils.stencil import stencil\n",
      "  File \"/Users/djay/miniforge3/lib/python3.9/site-packages/numba/stencils/stencil.py\", line 11, in <module>\n",
      "    from numba.core import types, typing, utils, ir, config, ir_utils, registry\n",
      "  File \"/Users/djay/miniforge3/lib/python3.9/site-packages/numba/core/ir_utils.py\", line 16, in <module>\n",
      "    from numba.core.extending import _Intrinsic\n",
      "  File \"/Users/djay/miniforge3/lib/python3.9/site-packages/numba/core/extending.py\", line 19, in <module>\n",
      "    from numba.core.pythonapi import box, unbox, reflect, NativeValue  # noqa: F401\n",
      "  File \"/Users/djay/miniforge3/lib/python3.9/site-packages/numba/core/pythonapi.py\", line 12, in <module>\n",
      "    from numba import _helperlib\n"
     ]
    },
    {
     "ename": "AttributeError",
     "evalue": "_ARRAY_API not found",
     "output_type": "error",
     "traceback": [
      "\u001b[0;31m---------------------------------------------------------------------------\u001b[0m",
      "\u001b[0;31mAttributeError\u001b[0m                            Traceback (most recent call last)",
      "\u001b[0;31mAttributeError\u001b[0m: _ARRAY_API not found"
     ]
    }
   ],
   "source": [
    "%gui wx\n",
    "import sys\n",
    "import os\n",
    "import os.path as op\n",
    "\n",
    "#utility function from previous lab\n",
    "import utils \n",
    "\n",
    "#to download the dataset from openneuro\n",
    "#note : need to install openneuro\n",
    "import openneuro\n",
    "import subprocess\n",
    "\n",
    "from mne_bids import print_dir_tree\n",
    "####################\n",
    "# Setup FSL path\n",
    "####################\n",
    "utils.loadFSL()"
   ]
  },
  {
   "cell_type": "code",
   "execution_count": 33,
   "id": "88c29734-32b9-44e1-8c4f-5106531b9807",
   "metadata": {},
   "outputs": [
    {
     "name": "stdout",
     "output_type": "stream",
     "text": [
      "\n",
      "👋 Hello! This is openneuro-py 2023.1.0. Great to see you! 🤗\n",
      "\n",
      "   👉 Please report problems 🤯 and bugs 🪲 at\n",
      "      https://github.com/hoechenberger/openneuro-py/issues\n",
      "\n",
      "🌍 Preparing to download ds000171 …\n"
     ]
    },
    {
     "name": "stderr",
     "output_type": "stream",
     "text": [
      "Traceback (most recent call last):\n",
      "  File \"/Users/djay/miniforge3/bin/openneuro-py\", line 8, in <module>\n",
      "    sys.exit(cli())\n",
      "  File \"/Users/djay/miniforge3/lib/python3.9/site-packages/click/core.py\", line 1130, in __call__\n",
      "    return self.main(*args, **kwargs)\n",
      "  File \"/Users/djay/miniforge3/lib/python3.9/site-packages/click/core.py\", line 1055, in main\n",
      "    rv = self.invoke(ctx)\n",
      "  File \"/Users/djay/miniforge3/lib/python3.9/site-packages/click/core.py\", line 1657, in invoke\n",
      "    return _process_result(sub_ctx.command.invoke(sub_ctx))\n",
      "  File \"/Users/djay/miniforge3/lib/python3.9/site-packages/click/core.py\", line 1404, in invoke\n",
      "    return ctx.invoke(self.callback, **ctx.params)\n",
      "  File \"/Users/djay/miniforge3/lib/python3.9/site-packages/click/core.py\", line 760, in invoke\n",
      "    return __callback(*args, **kwargs)\n",
      "  File \"/Users/djay/miniforge3/lib/python3.9/site-packages/openneuro/_download.py\", line 963, in download_cli\n",
      "    download(**kwargs)\n",
      "  File \"/Users/djay/miniforge3/lib/python3.9/site-packages/openneuro/_download.py\", line 807, in download\n",
      "    local_tag = _get_local_tag(dataset_id=dataset, dataset_dir=target_dir)\n",
      "  File \"/Users/djay/miniforge3/lib/python3.9/site-packages/openneuro/_download.py\", line 598, in _get_local_tag\n",
      "    raise RuntimeError(\n",
      "RuntimeError: Local \"dataset_description.json\" does not contain \"DatasetDOI\" field. Are you sure this is the correct directory?\n"
     ]
    },
    {
     "ename": "CalledProcessError",
     "evalue": "Command '['openneuro-py', 'download', '--dataset', 'ds000171', '--target_dir', '/Users/djay/Desktop/NSSP/dataset/ds000171', '--include', 'sub-control01']' returned non-zero exit status 1.",
     "output_type": "error",
     "traceback": [
      "\u001b[0;31m---------------------------------------------------------------------------\u001b[0m",
      "\u001b[0;31mCalledProcessError\u001b[0m                        Traceback (most recent call last)",
      "Input \u001b[0;32mIn [33]\u001b[0m, in \u001b[0;36m<cell line: 17>\u001b[0;34m()\u001b[0m\n\u001b[1;32m     14\u001b[0m preproc_root_demo \u001b[38;5;241m=\u001b[39m os\u001b[38;5;241m.\u001b[39mpath\u001b[38;5;241m.\u001b[39mjoin(bids_root_demo, \u001b[38;5;124m'\u001b[39m\u001b[38;5;124mderivatives\u001b[39m\u001b[38;5;124m'\u001b[39m)\n\u001b[1;32m     16\u001b[0m \u001b[38;5;66;03m# Run the command with corrected --target_dir option\u001b[39;00m\n\u001b[0;32m---> 17\u001b[0m \u001b[43msubprocess\u001b[49m\u001b[38;5;241;43m.\u001b[39;49m\u001b[43mrun\u001b[49m\u001b[43m(\u001b[49m\u001b[43m[\u001b[49m\u001b[38;5;124;43m\"\u001b[39;49m\u001b[38;5;124;43mopenneuro-py\u001b[39;49m\u001b[38;5;124;43m\"\u001b[39;49m\u001b[43m,\u001b[49m\u001b[43m \u001b[49m\u001b[38;5;124;43m\"\u001b[39;49m\u001b[38;5;124;43mdownload\u001b[39;49m\u001b[38;5;124;43m\"\u001b[39;49m\u001b[43m,\u001b[49m\u001b[43m \u001b[49m\u001b[38;5;124;43m\"\u001b[39;49m\u001b[38;5;124;43m--dataset\u001b[39;49m\u001b[38;5;124;43m\"\u001b[39;49m\u001b[43m,\u001b[49m\u001b[43m \u001b[49m\u001b[43mdataset_demo\u001b[49m\u001b[43m,\u001b[49m\u001b[43m \u001b[49m\u001b[38;5;124;43m\"\u001b[39;49m\u001b[38;5;124;43m--target_dir\u001b[39;49m\u001b[38;5;124;43m\"\u001b[39;49m\u001b[43m,\u001b[49m\u001b[43m \u001b[49m\u001b[43mbids_root_demo\u001b[49m\u001b[43m,\u001b[49m\u001b[38;5;124;43m\"\u001b[39;49m\u001b[38;5;124;43m--include\u001b[39;49m\u001b[38;5;124;43m\"\u001b[39;49m\u001b[43m,\u001b[49m\u001b[43msubject\u001b[49m\u001b[43m]\u001b[49m\u001b[43m,\u001b[49m\u001b[43m \u001b[49m\u001b[43mcheck\u001b[49m\u001b[38;5;241;43m=\u001b[39;49m\u001b[38;5;28;43;01mTrue\u001b[39;49;00m\u001b[43m)\u001b[49m\n",
      "File \u001b[0;32m~/miniforge3/lib/python3.9/subprocess.py:528\u001b[0m, in \u001b[0;36mrun\u001b[0;34m(input, capture_output, timeout, check, *popenargs, **kwargs)\u001b[0m\n\u001b[1;32m    526\u001b[0m     retcode \u001b[38;5;241m=\u001b[39m process\u001b[38;5;241m.\u001b[39mpoll()\n\u001b[1;32m    527\u001b[0m     \u001b[38;5;28;01mif\u001b[39;00m check \u001b[38;5;129;01mand\u001b[39;00m retcode:\n\u001b[0;32m--> 528\u001b[0m         \u001b[38;5;28;01mraise\u001b[39;00m CalledProcessError(retcode, process\u001b[38;5;241m.\u001b[39margs,\n\u001b[1;32m    529\u001b[0m                                  output\u001b[38;5;241m=\u001b[39mstdout, stderr\u001b[38;5;241m=\u001b[39mstderr)\n\u001b[1;32m    530\u001b[0m \u001b[38;5;28;01mreturn\u001b[39;00m CompletedProcess(process\u001b[38;5;241m.\u001b[39margs, retcode, stdout, stderr)\n",
      "\u001b[0;31mCalledProcessError\u001b[0m: Command '['openneuro-py', 'download', '--dataset', 'ds000171', '--target_dir', '/Users/djay/Desktop/NSSP/dataset/ds000171', '--include', 'sub-control01']' returned non-zero exit status 1."
     ]
    }
   ],
   "source": [
    "#download the dataset\n",
    "\n",
    "#\"https://openneuro.org/datasets/ds000171/versions/00001\"\n",
    "dataset= 'ds000171'\n",
    "version = '00001'\n",
    "subject = 'sub-control01'\n",
    "\n",
    "#path to save\n",
    "sample_path = \"dataset\"\n",
    "utils.mkdir_no_exist(sample_path)\n",
    "\n",
    "# Construct paths\n",
    "bids_root_demo = os.path.join(os.path.abspath(\"\"), sample_path, dataset_demo)\n",
    "preproc_root_demo = os.path.join(bids_root_demo, 'derivatives')\n",
    "\n",
    "# Run the command with corrected --target_dir option\n",
    "subprocess.run([\"openneuro-py\", \"download\", \"--dataset\", dataset_demo, \"--target_dir\", bids_root_demo,\"--include\",subject], check=True)"
   ]
  },
  {
   "cell_type": "code",
   "execution_count": null,
   "id": "a7299358-0896-4c17-a676-1677f0d352e7",
   "metadata": {},
   "outputs": [],
   "source": [
    "print_dir_tree(bids_root_demo)"
   ]
  }
 ],
 "metadata": {
  "kernelspec": {
   "display_name": "Python 3 (ipykernel)",
   "language": "python",
   "name": "python3"
  },
  "language_info": {
   "codemirror_mode": {
    "name": "ipython",
    "version": 3
   },
   "file_extension": ".py",
   "mimetype": "text/x-python",
   "name": "python",
   "nbconvert_exporter": "python",
   "pygments_lexer": "ipython3",
   "version": "3.9.10"
  }
 },
 "nbformat": 4,
 "nbformat_minor": 5
}
