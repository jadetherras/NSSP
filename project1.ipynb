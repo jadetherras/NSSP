{
 "cells": [
  {
   "cell_type": "markdown",
   "id": "52aba839-225f-4afb-b9d1-7e2bcab1571b",
   "metadata": {},
   "source": [
    "# NSSP project 1"
   ]
  },
  {
   "cell_type": "markdown",
   "id": "12236843-d438-433d-8729-4610891465f6",
   "metadata": {},
   "source": [
    "In this notebook, we aims to study the neural processing of emotionally provocative auditory stimuli."
   ]
  },
  {
   "cell_type": "markdown",
   "id": "aff179b7-2adb-44ee-90da-0d6cdcc43636",
   "metadata": {},
   "source": [
    "### Import, setup FSL"
   ]
  },
  {
   "cell_type": "code",
   "execution_count": 1,
   "id": "5090af07-222f-4710-b30a-953dff8b7ee7",
   "metadata": {},
   "outputs": [
    {
     "name": "stderr",
     "output_type": "stream",
     "text": [
      "Gtk-Message: 08:45:18.071: Failed to load module \"canberra-gtk-module\"\n"
     ]
    }
   ],
   "source": [
    "%gui wx\n",
    "import sys\n",
    "import os\n",
    "import os.path as op\n",
    "\n",
    "#utility functions from previous labs\n",
    "import utils \n",
    "\n",
    "#to download the dataset from openneuro\n",
    "import subprocess\n",
    "import openneuro\n",
    "\n",
    "#############################\n",
    "# Loading fsl and freesurfer within Neurodesk\n",
    "# You can find the list of available other modules by clicking on the \"Softwares\" tab on the left\n",
    "#############################\n",
    "import lmod\n",
    "await lmod.purge(force=True)\n",
    "await lmod.load('fsl/6.0.7.4')\n",
    "await lmod.load('freesurfer/7.4.1')\n",
    "await lmod.list()\n",
    "\n",
    "###################\n",
    "# Load all relevant libraries for the lab\n",
    "##################\n",
    "import fsl.wrappers\n",
    "from fsl.wrappers import fslmaths\n",
    "\n",
    "# FSL function wrappers which we will call from python directly\n",
    "from fsl.wrappers import fast, bet\n",
    "from fsl.wrappers.misc import fslroi\n",
    "from fsl.wrappers import flirt\n",
    "\n",
    "from mne.datasets import sample\n",
    "from mne_bids import BIDSPath, read_raw_bids, print_dir_tree, make_report\n",
    "\n",
    "# General purpose imports to handle paths, files etc\n",
    "import glob\n",
    "import pandas as pd\n",
    "import numpy as np\n",
    "import json\n",
    "import subprocess\n",
    "####################\n",
    "# Setup FSL path\n",
    "####################\n",
    "utils.loadFSL()"
   ]
  },
  {
   "cell_type": "code",
   "execution_count": 2,
   "id": "dbcfa0b7-af69-4f6b-949d-6581f17d7916",
   "metadata": {},
   "outputs": [
    {
     "name": "stderr",
     "output_type": "stream",
     "text": [
      "08:45:36: Debug: Adding duplicate image handler for 'Windows bitmap file'\n",
      "08:45:36: Debug: Adding duplicate animation handler for '1' type\n",
      "08:45:36: Debug: Adding duplicate animation handler for '2' type\n",
      "08:45:36: Debug: Adding duplicate image handler for 'Windows bitmap file'\n",
      "08:45:36: Debug: Adding duplicate animation handler for '1' type\n",
      "08:45:36: Debug: Adding duplicate animation handler for '2' type\n",
      "\n",
      "(ipykernel_launcher.py:491): Gtk-CRITICAL **: 08:45:37.035: gtk_window_resize: assertion 'height > 0' failed\n"
     ]
    }
   ],
   "source": [
    "################\n",
    "# Start FSLeyes (very neat tool to visualize MRI data of all sorts) within Python\n",
    "################\n",
    "fsleyesDisplay = utils.FSLeyesServer()\n",
    "fsleyesDisplay.show()"
   ]
  },
  {
   "cell_type": "markdown",
   "id": "84eda6c5-90f3-46e3-bb99-0ff84f6a0d3a",
   "metadata": {},
   "source": [
    "### Download and explore the dataset"
   ]
  },
  {
   "cell_type": "code",
   "execution_count": 3,
   "id": "88c29734-32b9-44e1-8c4f-5106531b9807",
   "metadata": {
    "scrolled": true
   },
   "outputs": [],
   "source": [
    "#download the dataset\n",
    "\n",
    "#\"https://openneuro.org/datasets/ds000171/versions/00001\"\n",
    "dataset= 'ds000171'\n",
    "version = '00001'\n",
    "subject = 'sub-control01'\n",
    "subjectID = 'control01'\n",
    "\n",
    "#path to save\n",
    "sample_path = \"dataset\"\n",
    "utils.mkdir_no_exist(sample_path)\n",
    "\n",
    "# Construct paths\n",
    "bids_root = os.path.join(os.path.abspath(\"\"), sample_path, dataset)\n",
    "deriv_root = os.path.join(bids_root, 'derivatives')\n",
    "preproc_root = op.join(bids_root, 'derivatives','preprocessed_data')\n",
    "\n",
    "#folder for derivative and preprocess\n",
    "utils.mkdir_no_exist(deriv_root)\n",
    "utils.mkdir_no_exist(preproc_root)\n",
    "utils.mkdir_no_exist(op.join(preproc_root, subject))\n",
    "utils.mkdir_no_exist(op.join(preproc_root, subject, 'anat'))\n",
    "utils.mkdir_no_exist(op.join(preproc_root, subject, 'func'))\n",
    "utils.mkdir_no_exist(op.join(preproc_root, subject, 'fmap'))\n",
    "\n",
    "#run this line only if you dont have the dataset \n",
    "#subprocess.run([\"openneuro-py\", \"download\", \"--dataset\", dataset, \"--target_dir\", bids_root,\"--include\",subject], check=True)"
   ]
  },
  {
   "cell_type": "code",
   "execution_count": 4,
   "id": "a7299358-0896-4c17-a676-1677f0d352e7",
   "metadata": {
    "scrolled": true
   },
   "outputs": [
    {
     "name": "stdout",
     "output_type": "stream",
     "text": [
      "|ds000171/\n",
      "|--- CHANGES\n",
      "|--- README\n",
      "|--- T1w.json\n",
      "|--- dataset_description.json\n",
      "|--- participants.tsv\n",
      "|--- task-music_bold.json\n",
      "|--- derivatives/\n",
      "|------ preprocessed_data/\n",
      "|--------- sub-control01/\n",
      "|------------ anat/\n",
      "|------------ fmap/\n",
      "|------------ func/\n",
      "|--- sub-control01/\n",
      "|------ anat/\n",
      "|--------- sub-control01_T1w.nii.gz\n",
      "|------ func/\n",
      "|--------- sub-control01_task-music_run-1_bold.nii.gz\n",
      "|--------- sub-control01_task-music_run-1_events.tsv\n",
      "|--------- sub-control01_task-music_run-2_bold.nii.gz\n",
      "|--------- sub-control01_task-music_run-2_events.tsv\n",
      "|--------- sub-control01_task-music_run-3_bold.nii.gz\n",
      "|--------- sub-control01_task-music_run-3_events.tsv\n",
      "|--------- sub-control01_task-nonmusic_run-4_bold.nii.gz\n",
      "|--------- sub-control01_task-nonmusic_run-4_events.tsv\n",
      "|--------- sub-control01_task-nonmusic_run-5_bold.nii.gz\n",
      "|--------- sub-control01_task-nonmusic_run-5_events.tsv\n"
     ]
    }
   ],
   "source": [
    "# explore the dataset folder\n",
    "print_dir_tree(bids_root,4)"
   ]
  },
  {
   "cell_type": "code",
   "execution_count": 5,
   "id": "d9959981-5d94-42f1-9f7e-cb831bb76939",
   "metadata": {},
   "outputs": [
    {
     "data": {
      "text/plain": [
       "{'TaskName': 'Music',\n",
       " 'RepetitionTime': 3.0,\n",
       " 'EchoTime': 0.025,\n",
       " 'FlipAngle': 90.0,\n",
       " 'SequenceName': 'EPI BOLD',\n",
       " 'Manufacturer': 'Siemens',\n",
       " 'ManufacturersModelName': 'Skyra',\n",
       " 'MagneticFieldStrength': 3.0,\n",
       " 'ParallelImagingReductionFactor': 0,\n",
       " 'SliceTimingComputationMethod': '(slicenum*RepetitionTime/TotalSlices), interleaved according to Siemens even-numbered slice convention (even slices first).',\n",
       " 'SliceTiming': [1.5,\n",
       "  0.0,\n",
       "  1.56,\n",
       "  0.06,\n",
       "  1.62,\n",
       "  0.12,\n",
       "  1.68,\n",
       "  0.18,\n",
       "  1.74,\n",
       "  0.24,\n",
       "  1.8,\n",
       "  0.3,\n",
       "  1.86,\n",
       "  0.36,\n",
       "  1.92,\n",
       "  0.42,\n",
       "  1.98,\n",
       "  0.48,\n",
       "  2.04,\n",
       "  0.54,\n",
       "  2.1,\n",
       "  0.6,\n",
       "  2.16,\n",
       "  0.66,\n",
       "  2.22,\n",
       "  0.72,\n",
       "  2.28,\n",
       "  0.78,\n",
       "  2.34,\n",
       "  0.84,\n",
       "  2.4,\n",
       "  0.9,\n",
       "  2.46,\n",
       "  0.96,\n",
       "  2.52,\n",
       "  1.02,\n",
       "  2.58,\n",
       "  1.08,\n",
       "  2.64,\n",
       "  1.14,\n",
       "  2.7,\n",
       "  1.2,\n",
       "  2.76,\n",
       "  1.26,\n",
       "  2.82,\n",
       "  1.32,\n",
       "  2.88,\n",
       "  1.38,\n",
       "  2.94,\n",
       "  1.44]}"
      ]
     },
     "execution_count": 5,
     "metadata": {},
     "output_type": "execute_result"
    }
   ],
   "source": [
    "data_description = utils.get_json_from_file(op.join(bids_root,'dataset_description.json'))\n",
    "data_description\n",
    "\n",
    "data_task = utils.get_json_from_file(op.join(bids_root,'task-music_bold.json'))\n",
    "data_task"
   ]
  },
  {
   "cell_type": "code",
   "execution_count": 6,
   "id": "06435194-895c-40f4-9997-76d64f67b82b",
   "metadata": {},
   "outputs": [
    {
     "name": "stderr",
     "output_type": "stream",
     "text": [
      "\n",
      "(ipykernel_launcher.py:491): Gdk-WARNING **: 08:45:48.773: gdkdrawable-x11.c:952 drawable is not a pixmap or window\n"
     ]
    }
   ],
   "source": [
    "# explore anatomical\n",
    "fsleyesDisplay.resetOverlays()\n",
    "fsleyesDisplay.load(op.join(bids_root, subject,'anat','sub-control01_T1w.nii.gz'))\n",
    "\n",
    "# explore one functional \n",
    "#fsleyesDisplay.resetOverlays()\n",
    "#fsleyesDisplay.load(op.join(bids_root, subject,'func','sub-control01_task-music_run-1_bold.nii.gz'))"
   ]
  },
  {
   "cell_type": "markdown",
   "id": "18a293aa-bc51-4494-98ba-6ed4c22b6bc4",
   "metadata": {},
   "source": [
    "## PART 1"
   ]
  },
  {
   "cell_type": "markdown",
   "id": "0b1ca0a2-0aa6-4d69-9121-3c85b74242bd",
   "metadata": {},
   "source": [
    "### Pre-processing\n",
    "Prior to analysis we need to pre process the data.\n",
    "We will standardize each run of interest of sub-control01 and concatenate all together.<br/>\n",
    "Then,we will apply standard preprocessing steps.\n",
    "\n",
    "<b>Anatomical preprocessing</b>\n",
    "1. Skull stripping\n",
    "2. segmentation\n",
    "3. Coregistration & Normalisation\n",
    "\n",
    "<b>functional preprocessing</b>\n",
    "1. standardisation\n",
    "2. concatenation\n",
    "3. motion correction\n",
    "4. Coregistration & normalisation\n",
    "5. smoothing"
   ]
  },
  {
   "cell_type": "markdown",
   "id": "abbd45f5-85c8-412c-914d-ac34ba187b47",
   "metadata": {},
   "source": [
    "#### <b>Anatomical preprocessing</b>"
   ]
  },
  {
   "cell_type": "code",
   "execution_count": 10,
   "id": "c951089c-9799-4986-9e31-f2ee825f4c72",
   "metadata": {},
   "outputs": [
    {
     "name": "stdout",
     "output_type": "stream",
     "text": [
      "Done with BET.\n"
     ]
    }
   ],
   "source": [
    "#Skull stripping \n",
    "def get_skull_stripped_anatomical(bids_root, preproc_root, subject_id, robust=False):\n",
    "    \"\"\"\n",
    "    Function to perform skull-stripping (removing the skull around the brain).\n",
    "    This is a simple wrapper around the brain extraction tool (BET) in FSL's suite\n",
    "    It assumes data to be in the BIDS format.\n",
    "    The method also saves the brain mask which was used to extract the brain.\n",
    "\n",
    "    The brain extraction is conducted only on the T1w of the participant.\n",
    "\n",
    "    Parameters\n",
    "    ----------\n",
    "    bids_root: string\n",
    "        The root of the BIDS directory\n",
    "    preproc_root: string\n",
    "        The root of the preprocessed data, where the result of the brain extraction will be saved.\n",
    "    subject_id: string\n",
    "        Subject ID, the subject on which brain extraction should be conducted.\n",
    "    robust: bool\n",
    "        Whether to conduct robust center estimation with BET or not. Default is False.\n",
    "    \"\"\"\n",
    "    # We perform here skull stripping\n",
    "    subject = 'sub-{}'.format(subject_id)\n",
    "    anatomical_path = op.join(bids_root, subject, 'anat', 'sub-{}_T1w.nii.gz'.format(subject_id))\n",
    "    betted_brain_path = op.join(preproc_root, subject, 'anat', 'sub-{}_T1w'.format(subject_id))\n",
    "    \n",
    "    os.system('bet {} {} -m {}'.format(anatomical_path, betted_brain_path, '-R' if robust else ''))\n",
    "    print(\"Done with BET.\")\n",
    "\n",
    "resulting_mask_path = op.join(preproc_root, subject, 'anat', 'sub-{}_T1w_mask'.format(subjectID))\n",
    "get_skull_stripped_anatomical(bids_root, preproc_root, subjectID,robust=True)"
   ]
  },
  {
   "cell_type": "code",
   "execution_count": 11,
   "id": "2d96ea3c-93ec-43dc-8c1d-4cb353fb8479",
   "metadata": {},
   "outputs": [],
   "source": [
    "#display the mask and observe that the skull is correctely removed\n",
    "fsleyesDisplay.load(resulting_mask_path)"
   ]
  },
  {
   "cell_type": "markdown",
   "id": "fd358bf2-144b-4b97-8cb5-ad8f41405f46",
   "metadata": {},
   "source": [
    "After verification and manual corrections, we consider the skull tripping mask good enough. We apply the mask."
   ]
  },
  {
   "cell_type": "code",
   "execution_count": 14,
   "id": "50e59b16-028b-4030-9224-a8ca456bb409",
   "metadata": {},
   "outputs": [],
   "source": [
    "def apply_fsl_math_approach(img_path, mask_path, masked_img_path):\n",
    "    os.system('fslmaths {} -mas {} {}'.format(img_path, mask_path, masked_img_path))\n",
    "    \n",
    "\n",
    "anatomical_path = op.join(bids_root, subject, 'anat', 'sub-{}_T1w'.format(subjectID)) # The original brain\n",
    "betted_brain_path = op.join(preproc_root, subject, 'anat', 'sub-{}_T1w'.format(subjectID)) # The brain without skull is in the derivatives folder\n",
    "resulting_mask_path = op.join(preproc_root, subject, 'anat', 'sub-{}_T1w_mask_handmodif'.format(subjectID)) # The mask to use\n",
    "\n",
    "apply_fsl_math_approach(anatomical_path, resulting_mask_path, betted_brain_path)"
   ]
  },
  {
   "cell_type": "code",
   "execution_count": 15,
   "id": "9f1ffffa-fe42-4002-b409-09eeb9b488e6",
   "metadata": {},
   "outputs": [],
   "source": [
    "#display the brain without the skull\n",
    "fsleyesDisplay.load(betted_brain_path)"
   ]
  },
  {
   "cell_type": "code",
   "execution_count": 20,
   "id": "65fea268-7f8c-49f1-b8db-842e1afb1870",
   "metadata": {},
   "outputs": [
    {
     "data": {
      "text/plain": [
       "{}"
      ]
     },
     "execution_count": 20,
     "metadata": {},
     "output_type": "execute_result"
    },
    {
     "name": "stderr",
     "output_type": "stream",
     "text": [
      "\n",
      "(ipykernel_launcher.py:491): GLib-GIO-CRITICAL **: 09:38:51.365: GFileInfo created without standard::is-hidden\n",
      "\n",
      "(ipykernel_launcher.py:491): GLib-GIO-CRITICAL **: 09:38:51.365: file ../gio/gfileinfo.c: line 1633 (g_file_info_get_is_hidden): should not be reached\n",
      "\n",
      "(ipykernel_launcher.py:491): GLib-GIO-CRITICAL **: 09:38:51.365: GFileInfo created without standard::is-backup\n",
      "\n",
      "(ipykernel_launcher.py:491): GLib-GIO-CRITICAL **: 09:38:51.366: file ../gio/gfileinfo.c: line 1655 (g_file_info_get_is_backup): should not be reached\n",
      "\n",
      "(ipykernel_launcher.py:491): GLib-GIO-CRITICAL **: 09:38:51.366: GFileInfo created without standard::is-hidden\n",
      "\n",
      "(ipykernel_launcher.py:491): GLib-GIO-CRITICAL **: 09:38:51.366: file ../gio/gfileinfo.c: line 1633 (g_file_info_get_is_hidden): should not be reached\n",
      "\n",
      "(ipykernel_launcher.py:491): GLib-GIO-CRITICAL **: 09:38:51.366: GFileInfo created without standard::is-backup\n",
      "\n",
      "(ipykernel_launcher.py:491): GLib-GIO-CRITICAL **: 09:38:51.366: file ../gio/gfileinfo.c: line 1655 (g_file_info_get_is_backup): should not be reached\n",
      "\n",
      "(ipykernel_launcher.py:491): GLib-GIO-CRITICAL **: 09:38:51.366: GFileInfo created without standard::is-hidden\n",
      "\n",
      "(ipykernel_launcher.py:491): GLib-GIO-CRITICAL **: 09:38:51.366: file ../gio/gfileinfo.c: line 1633 (g_file_info_get_is_hidden): should not be reached\n",
      "\n",
      "(ipykernel_launcher.py:491): GLib-GIO-CRITICAL **: 09:38:51.366: GFileInfo created without standard::is-backup\n",
      "\n",
      "(ipykernel_launcher.py:491): GLib-GIO-CRITICAL **: 09:38:51.366: file ../gio/gfileinfo.c: line 1655 (g_file_info_get_is_backup): should not be reached\n",
      "\n",
      "(ipykernel_launcher.py:491): GLib-GIO-CRITICAL **: 09:38:51.366: GFileInfo created without standard::is-hidden\n",
      "\n",
      "(ipykernel_launcher.py:491): GLib-GIO-CRITICAL **: 09:38:51.366: file ../gio/gfileinfo.c: line 1633 (g_file_info_get_is_hidden): should not be reached\n",
      "\n",
      "(ipykernel_launcher.py:491): GLib-GIO-CRITICAL **: 09:38:51.366: GFileInfo created without standard::is-backup\n",
      "\n",
      "(ipykernel_launcher.py:491): GLib-GIO-CRITICAL **: 09:38:51.366: file ../gio/gfileinfo.c: line 1655 (g_file_info_get_is_backup): should not be reached\n",
      "\n",
      "(ipykernel_launcher.py:491): GLib-GIO-CRITICAL **: 09:38:51.367: GFileInfo created without standard::is-hidden\n",
      "\n",
      "(ipykernel_launcher.py:491): GLib-GIO-CRITICAL **: 09:38:51.367: file ../gio/gfileinfo.c: line 1633 (g_file_info_get_is_hidden): should not be reached\n",
      "\n",
      "(ipykernel_launcher.py:491): GLib-GIO-CRITICAL **: 09:38:51.367: GFileInfo created without standard::is-backup\n",
      "\n",
      "(ipykernel_launcher.py:491): GLib-GIO-CRITICAL **: 09:38:51.367: file ../gio/gfileinfo.c: line 1655 (g_file_info_get_is_backup): should not be reached\n",
      "\n",
      "(ipykernel_launcher.py:491): GLib-GIO-CRITICAL **: 09:38:51.368: GFileInfo created without standard::is-hidden\n",
      "\n",
      "(ipykernel_launcher.py:491): GLib-GIO-CRITICAL **: 09:38:51.368: file ../gio/gfileinfo.c: line 1633 (g_file_info_get_is_hidden): should not be reached\n",
      "\n",
      "(ipykernel_launcher.py:491): GLib-GIO-CRITICAL **: 09:38:51.368: GFileInfo created without standard::is-backup\n",
      "\n",
      "(ipykernel_launcher.py:491): GLib-GIO-CRITICAL **: 09:38:51.368: file ../gio/gfileinfo.c: line 1655 (g_file_info_get_is_backup): should not be reached\n"
     ]
    }
   ],
   "source": [
    "#segmentation\n",
    "[os.remove(f) for f in glob.glob(op.join(preproc_root, subject, 'anat', '*fast*'))] # Just to clean the directory in between runs of the cell\n",
    "segmentation_path = op.join(preproc_root, subject, 'anat', 'sub-{}_T1w_fast'.format(subjectID))\n",
    "fast(imgs=[betted_brain_path], out=segmentation_path, n_classes=3)"
   ]
  },
  {
   "cell_type": "code",
   "execution_count": 17,
   "id": "eaeb3e68-1491-4a28-a76c-e81f6ea226f5",
   "metadata": {},
   "outputs": [
    {
     "name": "stdout",
     "output_type": "stream",
     "text": [
      "|ds000171/\n",
      "|--- CHANGES\n",
      "|--- README\n",
      "|--- T1w.json\n",
      "|--- dataset_description.json\n",
      "|--- participants.tsv\n",
      "|--- task-music_bold.json\n",
      "|--- derivatives/\n",
      "|------ preprocessed_data/\n",
      "|--------- sub-control01/\n",
      "|------------ anat/\n",
      "|--------------- sub-control01_T1w.nii.gz\n",
      "|--------------- sub-control01_T1w_fast_mixeltype.nii.gz\n",
      "|--------------- sub-control01_T1w_fast_pve_0.nii.gz\n",
      "|--------------- sub-control01_T1w_fast_pve_1.nii.gz\n",
      "|--------------- sub-control01_T1w_fast_pve_2.nii.gz\n",
      "|--------------- sub-control01_T1w_fast_pveseg.nii.gz\n",
      "|--------------- sub-control01_T1w_fast_seg.nii.gz\n",
      "|--------------- sub-control01_T1w_mask.nii.gz\n",
      "|--------------- sub-control01_T1w_mask_handmodif.nii.gz\n",
      "|------------ fmap/\n",
      "|------------ func/\n",
      "|--- sub-control01/\n",
      "|------ anat/\n",
      "|--------- sub-control01_T1w.nii.gz\n",
      "|------ func/\n",
      "|--------- sub-control01_task-music_run-1_bold.nii.gz\n",
      "|--------- sub-control01_task-music_run-1_events.tsv\n",
      "|--------- sub-control01_task-music_run-2_bold.nii.gz\n",
      "|--------- sub-control01_task-music_run-2_events.tsv\n",
      "|--------- sub-control01_task-music_run-3_bold.nii.gz\n",
      "|--------- sub-control01_task-music_run-3_events.tsv\n",
      "|--------- sub-control01_task-nonmusic_run-4_bold.nii.gz\n",
      "|--------- sub-control01_task-nonmusic_run-4_events.tsv\n",
      "|--------- sub-control01_task-nonmusic_run-5_bold.nii.gz\n",
      "|--------- sub-control01_task-nonmusic_run-5_events.tsv\n"
     ]
    }
   ],
   "source": [
    "print_dir_tree(bids_root, max_depth=5)"
   ]
  },
  {
   "cell_type": "code",
   "execution_count": 19,
   "id": "1740cae9-9972-4809-81d8-2cb5779b0eff",
   "metadata": {},
   "outputs": [],
   "source": [
    "fsleyesDisplay.resetOverlays()\n",
    "fsleyesDisplay.load(betted_brain_path)\n",
    "fsleyesDisplay.load(glob.glob(op.join(preproc_root, subject, 'anat','*pve_0*'))[0])\n",
    "fsleyesDisplay.load(glob.glob(op.join(preproc_root, subject, 'anat','*pve_1*'))[0])\n",
    "fsleyesDisplay.load(glob.glob(op.join(preproc_root, subject, 'anat','*pve_2*'))[0])\n",
    "fsleyesDisplay.displayCtx.getOpts(fsleyesDisplay.overlayList[1]).cmap = 'Red'\n",
    "fsleyesDisplay.displayCtx.getOpts(fsleyesDisplay.overlayList[2]).cmap = 'Green'\n",
    "fsleyesDisplay.displayCtx.getOpts(fsleyesDisplay.overlayList[3]).cmap = 'Blue'"
   ]
  },
  {
   "cell_type": "markdown",
   "id": "fdfe63f3-4c1a-42e8-8fe4-3c8d05d13107",
   "metadata": {},
   "source": [
    "The segmentation correctely separated grey matter, white matter and cerebrospinal fluid."
   ]
  },
  {
   "cell_type": "code",
   "execution_count": 21,
   "id": "4b28b3a1-8c52-40a3-9970-01231dbffb25",
   "metadata": {},
   "outputs": [
    {
     "name": "stdout",
     "output_type": "stream",
     "text": [
      "\n",
      "Final result: \n",
      "0.003263 0.005586 -1.115142 204.728079 \n",
      "-0.932711 0.501905 0.006405 178.470887 \n",
      "0.502483 1.049173 -0.003890 -149.891913 \n",
      "0.000000 0.000000 0.000000 1.000000 \n",
      "\n"
     ]
    },
    {
     "data": {
      "text/plain": [
       "{}"
      ]
     },
     "execution_count": 21,
     "metadata": {},
     "output_type": "execute_result"
    },
    {
     "name": "stderr",
     "output_type": "stream",
     "text": [
      "\n",
      "(ipykernel_launcher.py:491): GLib-GIO-CRITICAL **: 09:50:44.697: GFileInfo created without standard::is-hidden\n",
      "\n",
      "(ipykernel_launcher.py:491): GLib-GIO-CRITICAL **: 09:50:44.697: file ../gio/gfileinfo.c: line 1633 (g_file_info_get_is_hidden): should not be reached\n",
      "\n",
      "(ipykernel_launcher.py:491): GLib-GIO-CRITICAL **: 09:50:44.697: GFileInfo created without standard::is-backup\n",
      "\n",
      "(ipykernel_launcher.py:491): GLib-GIO-CRITICAL **: 09:50:44.697: file ../gio/gfileinfo.c: line 1655 (g_file_info_get_is_backup): should not be reached\n"
     ]
    }
   ],
   "source": [
    "#Coregistration\n",
    "from fsl.wrappers import flirt\n",
    "\n",
    "mni_template = op.expandvars(op.join('$FSLDIR', 'data', 'standard', 'MNI152_T1_1mm_brain'))\n",
    "\n",
    "target = betted_brain_path\n",
    "reference = mni_template\n",
    "result = op.join(preproc_root, subject, 'anat', 'sub-{}_T1w_mni'.format(subjectID))\n",
    "flirt(target, reference, out=result)\n",
    "\n",
    "#we may add a cost later\n",
    "#j'ai perdu le cervelet, a refaire plus tard"
   ]
  },
  {
   "cell_type": "code",
   "execution_count": 22,
   "id": "be18ac31-7558-41af-9f0f-6c65b6df7a2b",
   "metadata": {},
   "outputs": [],
   "source": [
    "#display the coregistred brain\n",
    "fsleyesDisplay.resetOverlays()\n",
    "fsleyesDisplay.load(reference) \n",
    "fsleyesDisplay.load(result)"
   ]
  },
  {
   "cell_type": "markdown",
   "id": "45843cb2-0e08-478e-913b-6884c3e00e7f",
   "metadata": {},
   "source": [
    "This step finish the anatomical preprocessing."
   ]
  },
  {
   "cell_type": "markdown",
   "id": "55ba19d0-2706-426f-8b68-a53316abf3f2",
   "metadata": {},
   "source": [
    "#### <b>functionnal preprocessing</b>"
   ]
  },
  {
   "cell_type": "code",
   "execution_count": 25,
   "id": "2ded4c96-63ae-48df-978b-d1726bec57f9",
   "metadata": {
    "scrolled": true
   },
   "outputs": [
    {
     "name": "stdout",
     "output_type": "stream",
     "text": [
      "|func/\n",
      "|--- sub-control01_task-music_run-1_bold.nii.gz\n",
      "|--- sub-control01_task-music_run-1_events.tsv\n",
      "|--- sub-control01_task-music_run-2_bold.nii.gz\n",
      "|--- sub-control01_task-music_run-2_events.tsv\n",
      "|--- sub-control01_task-music_run-3_bold.nii.gz\n",
      "|--- sub-control01_task-music_run-3_events.tsv\n",
      "|--- sub-control01_task-nonmusic_run-4_bold.nii.gz\n",
      "|--- sub-control01_task-nonmusic_run-4_events.tsv\n",
      "|--- sub-control01_task-nonmusic_run-5_bold.nii.gz\n",
      "|--- sub-control01_task-nonmusic_run-5_events.tsv\n",
      "|--- .ipynb_checkpoints/\n",
      "|------ sub-control01_task-music_run-2_events-checkpoint.tsv\n"
     ]
    }
   ],
   "source": [
    "print_dir_tree(op.join(bids_root, subject, 'func')) #functionnal directory"
   ]
  },
  {
   "cell_type": "code",
   "execution_count": 35,
   "id": "5d036f47-5aea-4d8b-acea-8ca389cc0498",
   "metadata": {},
   "outputs": [
    {
     "name": "stdout",
     "output_type": "stream",
     "text": [
      "5\n",
      "['/data/dataset/ds000171/sub-control01/func/sub-control01_task-music_run-1_bold.nii.gz', '/data/dataset/ds000171/sub-control01/func/sub-control01_task-music_run-3_bold.nii.gz', '/data/dataset/ds000171/sub-control01/func/sub-control01_task-music_run-2_bold.nii.gz', '/data/dataset/ds000171/sub-control01/func/sub-control01_task-nonmusic_run-4_bold.nii.gz', '/data/dataset/ds000171/sub-control01/func/sub-control01_task-nonmusic_run-5_bold.nii.gz']\n"
     ]
    }
   ],
   "source": [
    "import re\n",
    "\n",
    "func_dir = op.join(bids_root, subject, 'func')\n",
    "pattern = re.compile(r'^sub-control01_task-(music|nonmusic)_run-\\d+_bold\\.nii\\.gz$')\n",
    "file_paths = []\n",
    "\n",
    "# Check if the directory exists\n",
    "if os.path.exists(func_dir):\n",
    "    for file_name in os.listdir(func_dir):\n",
    "        # If the file name matches the pattern, add it to the array with the full path\n",
    "        if pattern.match(file_name):\n",
    "            full_path = os.path.join(func_dir, file_name)\n",
    "            file_paths.append(full_path)\n",
    "\n",
    "# Output the array of all runs\n",
    "print(len(file_paths))\n",
    "print(file_paths)"
   ]
  },
  {
   "cell_type": "code",
   "execution_count": 40,
   "id": "efa99fa6-7405-48a2-8179-e894567dbbc6",
   "metadata": {},
   "outputs": [],
   "source": [
    "#concatenation\n",
    "from nilearn.image import concat_imgs, mean_img\n",
    "import nibabel as nib\n",
    "\n",
    "fmri_img = concat_imgs(file_paths)\n",
    "\n",
    "concat_path = os.path.join(preproc_root, subject, 'func', 'sub-{}_all_task_bold'.format(subjectID))\n",
    "nib.save(fmri_img, concat_path)"
   ]
  },
  {
   "cell_type": "code",
   "execution_count": 41,
   "id": "2dbab1e9-0053-494c-a536-2d26ee239a91",
   "metadata": {},
   "outputs": [
    {
     "name": "stderr",
     "output_type": "stream",
     "text": [
      "Processed data will be saved as /data/dataset/ds000171/derivatives/preprocessed_data/sub-control01/func/sub-control01_all_task_bold_moco\n",
      "\n",
      "McFLIRT v 2.0 - FMRI motion correction\n",
      "\n",
      "Reading time series... \n",
      "first iteration - 8mm scaling, set tolerance\n",
      "Rescaling reference volume [262] to 8 mm pixels\n",
      "Registering volumes ... [263][264][265][266][267][268][269][270][271][272][273][274][275][276][277][278][279][280][281][282][283][284][285][286][287][288][289][290][291][292][293][294][295][296][297][298][299][300][301][302][303][304][305][306][307][308][309][310][311][312][313][314][315][316][317][318][319][320][321][322][323][324][325][326][327][328][329][330][331][332][333][334][335][336][337][338][339][340][341][342][343][344][345][346][347][348][349][350][351][352][353][354][355][356][357][358][359][360][361][362][363][364][365][366][367][368][369][370][371][372][373][374][375][376][377][378][379][380][381][382][383][384][385][386][387][388][389][390][391][392][393][394][395][396][397][398][399][400][401][402][403][404][405][406][407][408][409][410][411][412][413][414][415][416][417][418][419][420][421][422][423][424][425][426][427][428][429][430][431][432][433][434][435][436][437][438][439][440][441][442][443][444][445][446][447][448][449][450][451][452][453][454][455][456][457][458][459][460][461][462][463][464][465][466][467][468][469][470][471][472][473][474][475][476][477][478][479][480][481][482][483][484][485][486][487][488][489][490][491][492][493][494][495][496][497][498][499][500][501][502][503][504][505][506][507][508][509][510][511][512][513][514][515][516][517][518][519][520][521][522][523][524][261][260][259][258][257][256][255][254][253][252][251][250][249][248][247][246][245][244][243][242][241][240][239][238][237][236][235][234][233][232][231][230][229][228][227][226][225][224][223][222][221][220][219][218][217][216][215][214][213][212][211][210][209][208][207][206][205][204][203][202][201][200][199][198][197][196][195][194][193][192][191][190][189][188][187][186][185][184][183][182][181][180][179][178][177][176][175][174][173][172][171][170][169][168][167][166][165][164][163][162][161][160][159][158][157][156][155][154][153][152][151][150][149][148][147][146][145][144][143][142][141][140][139][138][137][136][135][134][133][132][131][130][129][128][127][126][125][124][123][122][121][120][119][118][117][116][115][114][113][112][111][110][109][108][107][106][105][104][103][102][101][100][99][98][97][96][95][94][93][92][91][90][89][88][87][86][85][84][83][82][81][80][79][78][77][76][75][74][73][72][71][70][69][68][67][66][65][64][63][62][61][60][59][58][57][56][55][54][53][52][51][50][49][48][47][46][45][44][43][42][41][40][39][38][37][36][35][34][33][32][31][30][29][28][27][26][25][24][23][22][21][20][19][18][17][16][15][14][13][12][11][10][9][8][7][6][5][4][3][2][1][0]\n",
      "second iteration - drop to 4mm scaling\n",
      "Rescaling reference volume [262] to 4 mm pixels\n",
      "Registering volumes ... [263][264][265][266][267][268][269][270][271][272][273][274][275][276][277][278][279][280][281][282][283][284][285][286][287][288][289][290][291][292][293][294][295][296][297][298][299][300][301][302][303][304][305][306][307][308][309][310][311][312][313][314][315][316][317][318][319][320][321][322][323][324][325][326][327][328][329][330][331][332][333][334][335][336][337][338][339][340][341][342][343][344][345][346][347][348][349][350][351][352][353][354][355][356][357][358][359][360][361][362][363][364][365][366][367][368][369][370][371][372][373][374][375][376][377][378][379][380][381][382][383][384][385][386][387][388][389][390][391][392][393][394][395][396][397][398][399][400][401][402][403][404][405][406][407][408][409][410][411][412][413][414][415][416][417][418][419][420][421][422][423][424][425][426][427][428][429][430][431][432][433][434][435][436][437][438][439][440][441][442][443][444][445][446][447][448][449][450][451][452][453][454][455][456][457][458][459][460][461][462][463][464][465][466][467][468][469][470][471][472][473][474][475][476][477][478][479][480][481][482][483][484][485][486][487][488][489][490][491][492][493][494][495][496][497][498][499][500][501][502][503][504][505][506][507][508][509][510][511][512][513][514][515][516][517][518][519][520][521][522][523][524][261][260][259][258][257][256][255][254][253][252][251][250][249][248][247][246][245][244][243][242][241][240][239][238][237][236][235][234][233][232][231][230][229][228][227][226][225][224][223][222][221][220][219][218][217][216][215][214][213][212][211][210][209][208][207][206][205][204][203][202][201][200][199][198][197][196][195][194][193][192][191][190][189][188][187][186][185][184][183][182][181][180][179][178][177][176][175][174][173][172][171][170][169][168][167][166][165][164][163][162][161][160][159][158][157][156][155][154][153][152][151][150][149][148][147][146][145][144][143][142][141][140][139][138][137][136][135][134][133][132][131][130][129][128][127][126][125][124][123][122][121][120][119][118][117][116][115][114][113][112][111][110][109][108][107][106][105][104][103][102][101][100][99][98][97][96][95][94][93][92][91][90][89][88][87][86][85][84][83][82][81][80][79][78][77][76][75][74][73][72][71][70][69][68][67][66][65][64][63][62][61][60][59][58][57][56][55][54][53][52][51][50][49][48][47][46][45][44][43][42][41][40][39][38][37][36][35][34][33][32][31][30][29][28][27][26][25][24][23][22][21][20][19][18][17][16][15][14][13][12][11][10][9][8][7][6][5][4][3][2][1][0]\n",
      "third iteration - 4mm scaling, eighth tolerance\n"
     ]
    },
    {
     "name": "stdout",
     "output_type": "stream",
     "text": [
      "refnum = 262\n",
      "Original_refvol = -1\n"
     ]
    },
    {
     "name": "stderr",
     "output_type": "stream",
     "text": [
      "Registering volumes ... [263][264][265][266][267][268][269][270][271][272][273][274][275][276][277][278][279][280][281][282][283][284][285][286][287][288][289][290][291][292][293][294][295][296][297][298][299][300][301][302][303][304][305][306][307][308][309][310][311][312][313][314][315][316][317][318][319][320][321][322][323][324][325][326][327][328][329][330][331][332][333][334][335][336][337][338][339][340][341][342][343][344][345][346][347][348][349][350][351][352][353][354][355][356][357][358][359][360][361][362][363][364][365][366][367][368][369][370][371][372][373][374][375][376][377][378][379][380][381][382][383][384][385][386][387][388][389][390][391][392][393][394][395][396][397][398][399][400][401][402][403][404][405][406][407][408][409][410][411][412][413][414][415][416][417][418][419][420][421][422][423][424][425][426][427][428][429][430][431][432][433][434][435][436][437][438][439][440][441][442][443][444][445][446][447][448][449][450][451][452][453][454][455][456][457][458][459][460][461][462][463][464][465][466][467][468][469][470][471][472][473][474][475][476][477][478][479][480][481][482][483][484][485][486][487][488][489][490][491][492][493][494][495][496][497][498][499][500][501][502][503][504][505][506][507][508][509][510][511][512][513][514][515][516][517][518][519][520][521][522][523][524][261][260][259][258][257][256][255][254][253][252][251][250][249][248][247][246][245][244][243][242][241][240][239][238][237][236][235][234][233][232][231][230][229][228][227][226][225][224][223][222][221][220][219][218][217][216][215][214][213][212][211][210][209][208][207][206][205][204][203][202][201][200][199][198][197][196][195][194][193][192][191][190][189][188][187][186][185][184][183][182][181][180][179][178][177][176][175][174][173][172][171][170][169][168][167][166][165][164][163][162][161][160][159][158][157][156][155][154][153][152][151][150][149][148][147][146][145][144][143][142][141][140][139][138][137][136][135][134][133][132][131][130][129][128][127][126][125][124][123][122][121][120][119][118][117][116][115][114][113][112][111][110][109][108][107][106][105][104][103][102][101][100][99][98][97][96][95][94][93][92][91][90][89][88][87][86][85][84][83][82][81][80][79][78][77][76][75][74][73][72][71][70][69][68][67][66][65][64][63][62][61][60][59][58][57][56][55][54][53][52][51][50][49][48][47][46][45][44][43][42][41][40][39][38][37][36][35][34][33][32][31][30][29][28][27][26][25][24][23][22][21][20][19][18][17][16][15][14][13][12][11][10][9][8][7][6][5][4][3][2][1][0]\n",
      "Saving motion corrected time series... \n"
     ]
    },
    {
     "data": {
      "text/plain": [
       "{}"
      ]
     },
     "execution_count": 41,
     "metadata": {},
     "output_type": "execute_result"
    }
   ],
   "source": [
    "#motion correction\n",
    "from fsl.wrappers import mcflirt\n",
    "\n",
    "path_moco_data = os.path.join(preproc_root, subject, 'func', 'sub-{}_all_task_bold_moco'.format(subjectID))\n",
    "mcflirt(infile=concat_path,o=path_moco_data, plots=True, report=True, dof=6, mats=True)"
   ]
  },
  {
   "cell_type": "code",
   "execution_count": null,
   "id": "ed11a05a-7e64-462f-b01c-6d319d3a640c",
   "metadata": {},
   "outputs": [],
   "source": [
    "fsleyesDisplay.resetOverlays()\n",
    "fsleyesDisplay.load(concat_path)\n",
    "fsleyesDisplay.load(path_moco_data)"
   ]
  },
  {
   "cell_type": "markdown",
   "id": "bd20e775-daa0-4b40-89b0-a70919810134",
   "metadata": {},
   "source": [
    "### Experimental design matrix"
   ]
  },
  {
   "cell_type": "markdown",
   "id": "9c109bfe-cfb4-46b4-8846-eb8f9836f154",
   "metadata": {},
   "source": [
    "### Run a GLM "
   ]
  },
  {
   "cell_type": "markdown",
   "id": "77c6374f-1ddd-4472-8fea-bfa941d5873b",
   "metadata": {},
   "source": [
    "### Analyse GML result "
   ]
  }
 ],
 "metadata": {
  "kernelspec": {
   "display_name": "Python 3 (ipykernel)",
   "language": "python",
   "name": "python3"
  },
  "language_info": {
   "codemirror_mode": {
    "name": "ipython",
    "version": 3
   },
   "file_extension": ".py",
   "mimetype": "text/x-python",
   "name": "python",
   "nbconvert_exporter": "python",
   "pygments_lexer": "ipython3",
   "version": "3.11.6"
  }
 },
 "nbformat": 4,
 "nbformat_minor": 5
}
