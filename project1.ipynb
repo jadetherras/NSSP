{
 "cells": [
  {
   "cell_type": "markdown",
   "id": "52aba839-225f-4afb-b9d1-7e2bcab1571b",
   "metadata": {},
   "source": [
    "# NSSP project 1"
   ]
  },
  {
   "cell_type": "markdown",
   "id": "12236843-d438-433d-8729-4610891465f6",
   "metadata": {},
   "source": [
    "In this notebook, we aims to study the neural processing of emotionally provocative auditory stimuli."
   ]
  },
  {
   "cell_type": "markdown",
   "id": "aff179b7-2adb-44ee-90da-0d6cdcc43636",
   "metadata": {},
   "source": [
    "### Import, setup FSL"
   ]
  },
  {
   "cell_type": "code",
   "execution_count": 3,
   "id": "5090af07-222f-4710-b30a-953dff8b7ee7",
   "metadata": {},
   "outputs": [],
   "source": [
    "%gui wx\n",
    "import sys\n",
    "import os\n",
    "import os.path as op\n",
    "\n",
    "#utility functions from previous labs\n",
    "import utils \n",
    "\n",
    "#to download the dataset from openneuro\n",
    "import openneuro\n",
    "import subprocess\n",
    "\n",
    "\n",
    "from mne_bids import print_dir_tree\n",
    "\n",
    "####################\n",
    "# Setup FSL path\n",
    "####################\n",
    "utils.loadFSL()"
   ]
  },
  {
   "cell_type": "code",
   "execution_count": 2,
   "id": "dbcfa0b7-af69-4f6b-949d-6581f17d7916",
   "metadata": {},
   "outputs": [
    {
     "name": "stderr",
     "output_type": "stream",
     "text": [
      "11:00:25: Debug: Adding duplicate image handler for 'Windows bitmap file'\n",
      "11:00:25: Debug: Adding duplicate animation handler for '1' type\n",
      "11:00:25: Debug: Adding duplicate animation handler for '2' type\n",
      "11:00:26: Debug: Adding duplicate image handler for 'Windows bitmap file'\n",
      "11:00:26: Debug: Adding duplicate animation handler for '1' type\n",
      "11:00:26: Debug: Adding duplicate animation handler for '2' type\n",
      "\n",
      "(ipykernel_launcher.py:98371): Gtk-CRITICAL **: 11:00:26.885: gtk_window_resize: assertion 'height > 0' failed\n"
     ]
    }
   ],
   "source": [
    "################\n",
    "# Start FSLeyes (very neat tool to visualize MRI data of all sorts) within Python\n",
    "################\n",
    "fsleyesDisplay = utils.FSLeyesServer()\n",
    "fsleyesDisplay.show()"
   ]
  },
  {
   "cell_type": "markdown",
   "id": "84eda6c5-90f3-46e3-bb99-0ff84f6a0d3a",
   "metadata": {},
   "source": [
    "### Download and explore the dataset"
   ]
  },
  {
   "cell_type": "code",
   "execution_count": 4,
   "id": "88c29734-32b9-44e1-8c4f-5106531b9807",
   "metadata": {
    "scrolled": true
   },
   "outputs": [],
   "source": [
    "#download the dataset\n",
    "\n",
    "#\"https://openneuro.org/datasets/ds000171/versions/00001\"\n",
    "dataset= 'ds000171'\n",
    "version = '00001'\n",
    "subject = 'sub-control01'\n",
    "\n",
    "#path to save\n",
    "sample_path = \"dataset\"\n",
    "utils.mkdir_no_exist(sample_path)\n",
    "\n",
    "# Construct paths\n",
    "bids_root = os.path.join(os.path.abspath(\"\"), sample_path, dataset)\n",
    "preproc_root = os.path.join(bids_root, 'derivatives')\n",
    "\n",
    "#run this line only if you dont have the dataset \n",
    "#subprocess.run([\"openneuro-py\", \"download\", \"--dataset\", dataset, \"--target_dir\", bids_root,\"--include\",subject], check=True)"
   ]
  },
  {
   "cell_type": "code",
   "execution_count": 5,
   "id": "a7299358-0896-4c17-a676-1677f0d352e7",
   "metadata": {},
   "outputs": [
    {
     "name": "stdout",
     "output_type": "stream",
     "text": [
      "|ds000171/\n",
      "|--- CHANGES\n",
      "|--- README\n",
      "|--- T1w.json\n",
      "|--- dataset_description.json\n",
      "|--- participants.tsv\n",
      "|--- task-music_bold.json\n",
      "|--- sub-control01/\n",
      "|------ anat/\n",
      "|--------- sub-control01_T1w.nii.gz\n",
      "|------ func/\n",
      "|--------- sub-control01_task-music_run-1_bold.nii.gz\n",
      "|--------- sub-control01_task-music_run-1_events.tsv\n",
      "|--------- sub-control01_task-music_run-2_bold.nii.gz\n",
      "|--------- sub-control01_task-music_run-2_events.tsv\n",
      "|--------- sub-control01_task-music_run-3_bold.nii.gz\n",
      "|--------- sub-control01_task-music_run-3_events.tsv\n",
      "|--------- sub-control01_task-nonmusic_run-4_bold.nii.gz\n",
      "|--------- sub-control01_task-nonmusic_run-4_events.tsv\n",
      "|--------- sub-control01_task-nonmusic_run-5_bold.nii.gz\n",
      "|--------- sub-control01_task-nonmusic_run-5_events.tsv\n"
     ]
    }
   ],
   "source": [
    "# explore the dataset folder\n",
    "print_dir_tree(bids_root,4)"
   ]
  },
  {
   "cell_type": "code",
   "execution_count": 6,
   "id": "d9959981-5d94-42f1-9f7e-cb831bb76939",
   "metadata": {},
   "outputs": [
    {
     "data": {
      "text/plain": [
       "{'Name': 'Neural Processing of Emotional Musical and Nonmusical Stimuli in Depression',\n",
       " 'BIDSVersion': '1.0.0-rc2',\n",
       " 'License': 'PDDL',\n",
       " 'Authors': ['Rebecca J. Lepping',\n",
       "  'Ruth Ann Atchley',\n",
       "  'Evangelia Chrysikou',\n",
       "  'Laura E. Martin',\n",
       "  'Alicia A. Clair',\n",
       "  'Rick E. Ingram',\n",
       "  'W. Kyle Simmons',\n",
       "  'Cary R. Savage'],\n",
       " 'Acknowledgements': 'The authors wish to acknowledge Trisha Patrician and Natalie Stroupe for their assistance with screening of participants, and Allan Schmitt and Franklin Hunsinger for their role in collecting the MR data.',\n",
       " 'HowToAcknowledge': 'Please cite the papers listed in the ReferencesAndLinks',\n",
       " 'Funding': 'This work was supported by funding to RL from The Society for Education, Music and Psychology Research (SEMPRE: Arnold Bentley New Initiatives Fund), and the University of Kansas Doctoral Student Research Fund. MR imaging was provided by pilot funding from the Hoglund Brain Imaging Center. The Hoglund Brain Imaging Center is supported by a generous gift from Forrest and Sally Hoglund and funding from the National Institutes of Health (UL1 TR000001). The contents of this dataset are solely the responsibility of the authors and do not necessarily represent the official views of the NIH or any individual institute. The funders had no role in study design, data collection and analysis, decision to publish, or preparation of the associated manuscript.',\n",
       " 'ReferencesAndLinks': ['Lepping RJ, Atchley RA, Chrysikou E, Martin LE, Clair AA, Ingram RE, et al. Neural processing of emotional musical and nonmusical stimuli in depression.  PlosONE.  In Press.',\n",
       "  'Lepping RJ, Atchley RA, Savage CR. Development of a Validated Emotionally Provocative Musical Stimulus Set for Research. Psychology of Music. 2015; online before print. doi:10.1177/0305735615604509.',\n",
       "  'Lepping RJ, Atchley RA, Martin LE, Patrician TM, Stroupe N, Brooks WM, et al. Limbic responses to positive and negative emotionally evocative music: An fMRI study.  Society for Neuroscience annual meeting 2012 Oct 13-18; New Orleans, LA 2012.',\n",
       "  'Lepping RJ, Atchley RA, Martin LE, Brooks WM, Clair AA, Ingram RE, et al. Musical and nonmusical sounds evoke different patterns of neural activity: An fMRI study.  Psychonomic Society annual meeting; 2012 Nov 14-18; Minneapolis, MN 2012.',\n",
       "  'Lepping RJ, Atchley RA, Martin LE, Patrician TM, Ingram RE, Clair AA, et al. The effect of musical experiences and musical training on neural responses to emotionally evocative music and non-musical sounds.  Social and Affective Neuroscience Society annual conference 2013 Apr 12-13; San Francisco, CA 2013',\n",
       "  'Lepping RJ, Atchley RA, Patrician TM, Stroupe NN, Martin LE, Ingram RE, et al. Music to my ears: Neural responsiveness to emotional music and sounds in depression.  Society of Biological Psychiatry annual scientific convention 2013 May 16-18; San Francisco, CA 2013.'],\n",
       " 'AccessionNumber': 'ds000171'}"
      ]
     },
     "execution_count": 6,
     "metadata": {},
     "output_type": "execute_result"
    }
   ],
   "source": [
    "data_description = utils.get_json_from_file(op.join(bids_root,'dataset_description.json'))\n",
    "data_description"
   ]
  },
  {
   "cell_type": "code",
   "execution_count": 7,
   "id": "06435194-895c-40f4-9997-76d64f67b82b",
   "metadata": {},
   "outputs": [
    {
     "name": "stderr",
     "output_type": "stream",
     "text": [
      "\n",
      "(ipykernel_launcher.py:98371): Gtk-CRITICAL **: 11:00:46.378: gtk_combo_box_text_insert: assertion 'GTK_IS_COMBO_BOX_TEXT (combo_box)' failed\n",
      "\n",
      "(ipykernel_launcher.py:98371): Gtk-CRITICAL **: 11:00:46.408: gtk_combo_box_text_insert: assertion 'GTK_IS_COMBO_BOX_TEXT (combo_box)' failed\n",
      "\n",
      "(ipykernel_launcher.py:98371): Gtk-WARNING **: 11:00:46.480: for_size smaller than min-size (2 < 32) while measuring gadget (node entry, owner GtkSpinButton)\n",
      "\n",
      "(ipykernel_launcher.py:98371): Gtk-WARNING **: 11:00:46.480: for_size smaller than min-size (2 < 16) while measuring gadget (node button, owner GtkSpinButton)\n",
      "\n",
      "(ipykernel_launcher.py:98371): Gtk-WARNING **: 11:00:46.480: for_size smaller than min-size (2 < 16) while measuring gadget (node button, owner GtkSpinButton)\n"
     ]
    }
   ],
   "source": [
    "# explore anatomical\n",
    "fsleyesDisplay.resetOverlays()\n",
    "fsleyesDisplay.load(op.join(bids_root, subject,'anat','sub-control01_T1w.nii.gz'))\n",
    "\n",
    "# explore one functional \n",
    "#fsleyesDisplay.resetOverlays()\n",
    "#fsleyesDisplay.load(op.join(bids_root, subject,'func','sub-control01_task-music_run-1_bold.nii.gz'))"
   ]
  },
  {
   "cell_type": "markdown",
   "id": "18a293aa-bc51-4494-98ba-6ed4c22b6bc4",
   "metadata": {},
   "source": [
    "## PART 1"
   ]
  },
  {
   "cell_type": "markdown",
   "id": "0b1ca0a2-0aa6-4d69-9121-3c85b74242bd",
   "metadata": {},
   "source": [
    "### Pre-processing\n",
    "Prior to analysis we need to pre process the data.\n",
    "We will standardize each run of interest of sub-control01 and concatenate all together.<br/>\n",
    "Then,we will apply standard preprocessing steps.\n",
    "\n",
    "<b>Anatomical preprocessing</b>\n",
    "1. Skull stripping\n",
    "2. segmentation\n",
    "3. Normalisation\n",
    "\n",
    "<b>functional preprocessing</b>\n",
    "1. standardisation\n",
    "2. concatenation\n",
    "3. motion correction\n",
    "4. smoothing\n",
    "5. Coregistration & normalisation"
   ]
  },
  {
   "cell_type": "code",
   "execution_count": null,
   "id": "c951089c-9799-4986-9e31-f2ee825f4c72",
   "metadata": {},
   "outputs": [],
   "source": []
  },
  {
   "cell_type": "code",
   "execution_count": null,
   "id": "2d96ea3c-93ec-43dc-8c1d-4cb353fb8479",
   "metadata": {},
   "outputs": [],
   "source": []
  },
  {
   "cell_type": "markdown",
   "id": "bd20e775-daa0-4b40-89b0-a70919810134",
   "metadata": {},
   "source": [
    "### Experimental design matrix"
   ]
  },
  {
   "cell_type": "markdown",
   "id": "9c109bfe-cfb4-46b4-8846-eb8f9836f154",
   "metadata": {},
   "source": [
    "### Run a GLM "
   ]
  },
  {
   "cell_type": "markdown",
   "id": "77c6374f-1ddd-4472-8fea-bfa941d5873b",
   "metadata": {},
   "source": [
    "### Analyse GML result "
   ]
  }
 ],
 "metadata": {
  "kernelspec": {
   "display_name": "Python 3 (ipykernel)",
   "language": "python",
   "name": "python3"
  },
  "language_info": {
   "codemirror_mode": {
    "name": "ipython",
    "version": 3
   },
   "file_extension": ".py",
   "mimetype": "text/x-python",
   "name": "python",
   "nbconvert_exporter": "python",
   "pygments_lexer": "ipython3",
   "version": "3.9.19"
  }
 },
 "nbformat": 4,
 "nbformat_minor": 5
}
