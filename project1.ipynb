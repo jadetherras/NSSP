{
 "cells": [
  {
   "cell_type": "markdown",
   "id": "52aba839-225f-4afb-b9d1-7e2bcab1571b",
   "metadata": {},
   "source": [
    "# NSSP project 1"
   ]
  },
  {
   "cell_type": "code",
   "execution_count": 1,
   "id": "5090af07-222f-4710-b30a-953dff8b7ee7",
   "metadata": {},
   "outputs": [
    {
     "name": "stderr",
     "output_type": "stream",
     "text": [
      "ERROR:tornado.application:Exception in callback functools.partial(<function Kernel.enter_eventloop.<locals>.advance_eventloop at 0x106e5e160>)\n",
      "Traceback (most recent call last):\n",
      "  File \"/Users/djay/miniforge3/lib/python3.9/site-packages/tornado/ioloop.py\", line 741, in _run_callback\n",
      "    ret = callback()\n",
      "  File \"/Users/djay/miniforge3/lib/python3.9/site-packages/ipykernel/kernelbase.py\", line 449, in advance_eventloop\n",
      "    eventloop(self)\n",
      "  File \"/Users/djay/miniforge3/lib/python3.9/site-packages/ipykernel/eventloops.py\", line 167, in loop_wx\n",
      "    import wx\n",
      "ModuleNotFoundError: No module named 'wx'\n"
     ]
    }
   ],
   "source": [
    "%gui wx\n",
    "import sys\n",
    "import os"
   ]
  }
 ],
 "metadata": {
  "kernelspec": {
   "display_name": "Python 3 (ipykernel)",
   "language": "python",
   "name": "python3"
  },
  "language_info": {
   "codemirror_mode": {
    "name": "ipython",
    "version": 3
   },
   "file_extension": ".py",
   "mimetype": "text/x-python",
   "name": "python",
   "nbconvert_exporter": "python",
   "pygments_lexer": "ipython3",
   "version": "3.9.10"
  }
 },
 "nbformat": 4,
 "nbformat_minor": 5
}
